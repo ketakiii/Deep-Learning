{
  "nbformat": 4,
  "nbformat_minor": 0,
  "metadata": {
    "colab": {
      "name": "data_augmentation.ipynb",
      "provenance": []
    },
    "kernelspec": {
      "name": "python3",
      "display_name": "Python 3"
    },
    "language_info": {
      "name": "python"
    }
  },
  "cells": [
    {
      "cell_type": "markdown",
      "source": [
        "Importing keras library for augmenting data. Using ImageDataGenerator for performing various operations on images to augment it and create a dataset out of the limited images."
      ],
      "metadata": {
        "id": "tKleSp5ujwF1"
      }
    },
    {
      "cell_type": "code",
      "execution_count": 4,
      "metadata": {
        "id": "ujbr64ZMjo0-"
      },
      "outputs": [],
      "source": [
        "from keras.preprocessing.image import ImageDataGenerator, array_to_img, img_to_array, load_img\n",
        "\n",
        "datagen = ImageDataGenerator(rotation_range=40, \n",
        "                             width_shift_range=0.2, \n",
        "                             height_shift_range=0.2, \n",
        "                             shear_range=0.2, \n",
        "                             zoom_range=0.2, \n",
        "                             horizontal_flip=True, \n",
        "                             fill_mode='nearest')\n",
        "\n",
        "image = load_img('/content/drive/MyDrive/Deep Learning/cat_image.jpeg')\n",
        "x = img_to_array(image)\n",
        "x = x.reshape((1,) + x.shape)\n",
        "\n",
        "i = 0 \n",
        "for batch in datagen.flow(x, batch_size=1, \n",
        "                          save_to_dir='/content/drive/MyDrive/Deep Learning', save_prefix='cat_dog', save_format='jpeg'):\n",
        "  i += 1\n",
        "  if i>20:\n",
        "    break"
      ]
    }
  ]
}