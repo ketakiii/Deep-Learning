{
  "nbformat": 4,
  "nbformat_minor": 0,
  "metadata": {
    "colab": {
      "name": "ann.ipynb",
      "provenance": [],
      "collapsed_sections": []
    },
    "kernelspec": {
      "name": "python3",
      "display_name": "Python 3"
    },
    "language_info": {
      "name": "python"
    }
  },
  "cells": [
    {
      "cell_type": "markdown",
      "source": [
        "Importing libraries"
      ],
      "metadata": {
        "id": "Dr_u0vZR1xq-"
      }
    },
    {
      "cell_type": "code",
      "source": [
        "import pandas as pd \n",
        "import numpy as np\n",
        "import matplotlib.pyplot as plt"
      ],
      "metadata": {
        "id": "WPg8Dj-T1eLY"
      },
      "execution_count": 69,
      "outputs": []
    },
    {
      "cell_type": "markdown",
      "source": [
        "Importing the dataset"
      ],
      "metadata": {
        "id": "XqP7r-4k1z4Z"
      }
    },
    {
      "cell_type": "code",
      "execution_count": 70,
      "metadata": {
        "colab": {
          "base_uri": "https://localhost:8080/",
          "height": 112
        },
        "id": "5p7SZ2_K0S9C",
        "outputId": "f0dce414-30ee-4a55-db7d-d9d5c2eaa1f6"
      },
      "outputs": [
        {
          "output_type": "execute_result",
          "data": {
            "text/plain": [
              "   RowNumber  CustomerId   Surname  CreditScore Geography  Gender  Age  \\\n",
              "0          1    15634602  Hargrave          619    France  Female   42   \n",
              "1          2    15647311      Hill          608     Spain  Female   41   \n",
              "\n",
              "   Tenure   Balance  NumOfProducts  HasCrCard  IsActiveMember  \\\n",
              "0       2      0.00              1          1               1   \n",
              "1       1  83807.86              1          0               1   \n",
              "\n",
              "   EstimatedSalary  Exited  \n",
              "0        101348.88       1  \n",
              "1        112542.58       0  "
            ],
            "text/html": [
              "\n",
              "  <div id=\"df-626eae7f-9c2b-4f95-8d5e-c92485cbe1d5\">\n",
              "    <div class=\"colab-df-container\">\n",
              "      <div>\n",
              "<style scoped>\n",
              "    .dataframe tbody tr th:only-of-type {\n",
              "        vertical-align: middle;\n",
              "    }\n",
              "\n",
              "    .dataframe tbody tr th {\n",
              "        vertical-align: top;\n",
              "    }\n",
              "\n",
              "    .dataframe thead th {\n",
              "        text-align: right;\n",
              "    }\n",
              "</style>\n",
              "<table border=\"1\" class=\"dataframe\">\n",
              "  <thead>\n",
              "    <tr style=\"text-align: right;\">\n",
              "      <th></th>\n",
              "      <th>RowNumber</th>\n",
              "      <th>CustomerId</th>\n",
              "      <th>Surname</th>\n",
              "      <th>CreditScore</th>\n",
              "      <th>Geography</th>\n",
              "      <th>Gender</th>\n",
              "      <th>Age</th>\n",
              "      <th>Tenure</th>\n",
              "      <th>Balance</th>\n",
              "      <th>NumOfProducts</th>\n",
              "      <th>HasCrCard</th>\n",
              "      <th>IsActiveMember</th>\n",
              "      <th>EstimatedSalary</th>\n",
              "      <th>Exited</th>\n",
              "    </tr>\n",
              "  </thead>\n",
              "  <tbody>\n",
              "    <tr>\n",
              "      <th>0</th>\n",
              "      <td>1</td>\n",
              "      <td>15634602</td>\n",
              "      <td>Hargrave</td>\n",
              "      <td>619</td>\n",
              "      <td>France</td>\n",
              "      <td>Female</td>\n",
              "      <td>42</td>\n",
              "      <td>2</td>\n",
              "      <td>0.00</td>\n",
              "      <td>1</td>\n",
              "      <td>1</td>\n",
              "      <td>1</td>\n",
              "      <td>101348.88</td>\n",
              "      <td>1</td>\n",
              "    </tr>\n",
              "    <tr>\n",
              "      <th>1</th>\n",
              "      <td>2</td>\n",
              "      <td>15647311</td>\n",
              "      <td>Hill</td>\n",
              "      <td>608</td>\n",
              "      <td>Spain</td>\n",
              "      <td>Female</td>\n",
              "      <td>41</td>\n",
              "      <td>1</td>\n",
              "      <td>83807.86</td>\n",
              "      <td>1</td>\n",
              "      <td>0</td>\n",
              "      <td>1</td>\n",
              "      <td>112542.58</td>\n",
              "      <td>0</td>\n",
              "    </tr>\n",
              "  </tbody>\n",
              "</table>\n",
              "</div>\n",
              "      <button class=\"colab-df-convert\" onclick=\"convertToInteractive('df-626eae7f-9c2b-4f95-8d5e-c92485cbe1d5')\"\n",
              "              title=\"Convert this dataframe to an interactive table.\"\n",
              "              style=\"display:none;\">\n",
              "        \n",
              "  <svg xmlns=\"http://www.w3.org/2000/svg\" height=\"24px\"viewBox=\"0 0 24 24\"\n",
              "       width=\"24px\">\n",
              "    <path d=\"M0 0h24v24H0V0z\" fill=\"none\"/>\n",
              "    <path d=\"M18.56 5.44l.94 2.06.94-2.06 2.06-.94-2.06-.94-.94-2.06-.94 2.06-2.06.94zm-11 1L8.5 8.5l.94-2.06 2.06-.94-2.06-.94L8.5 2.5l-.94 2.06-2.06.94zm10 10l.94 2.06.94-2.06 2.06-.94-2.06-.94-.94-2.06-.94 2.06-2.06.94z\"/><path d=\"M17.41 7.96l-1.37-1.37c-.4-.4-.92-.59-1.43-.59-.52 0-1.04.2-1.43.59L10.3 9.45l-7.72 7.72c-.78.78-.78 2.05 0 2.83L4 21.41c.39.39.9.59 1.41.59.51 0 1.02-.2 1.41-.59l7.78-7.78 2.81-2.81c.8-.78.8-2.07 0-2.86zM5.41 20L4 18.59l7.72-7.72 1.47 1.35L5.41 20z\"/>\n",
              "  </svg>\n",
              "      </button>\n",
              "      \n",
              "  <style>\n",
              "    .colab-df-container {\n",
              "      display:flex;\n",
              "      flex-wrap:wrap;\n",
              "      gap: 12px;\n",
              "    }\n",
              "\n",
              "    .colab-df-convert {\n",
              "      background-color: #E8F0FE;\n",
              "      border: none;\n",
              "      border-radius: 50%;\n",
              "      cursor: pointer;\n",
              "      display: none;\n",
              "      fill: #1967D2;\n",
              "      height: 32px;\n",
              "      padding: 0 0 0 0;\n",
              "      width: 32px;\n",
              "    }\n",
              "\n",
              "    .colab-df-convert:hover {\n",
              "      background-color: #E2EBFA;\n",
              "      box-shadow: 0px 1px 2px rgba(60, 64, 67, 0.3), 0px 1px 3px 1px rgba(60, 64, 67, 0.15);\n",
              "      fill: #174EA6;\n",
              "    }\n",
              "\n",
              "    [theme=dark] .colab-df-convert {\n",
              "      background-color: #3B4455;\n",
              "      fill: #D2E3FC;\n",
              "    }\n",
              "\n",
              "    [theme=dark] .colab-df-convert:hover {\n",
              "      background-color: #434B5C;\n",
              "      box-shadow: 0px 1px 3px 1px rgba(0, 0, 0, 0.15);\n",
              "      filter: drop-shadow(0px 1px 2px rgba(0, 0, 0, 0.3));\n",
              "      fill: #FFFFFF;\n",
              "    }\n",
              "  </style>\n",
              "\n",
              "      <script>\n",
              "        const buttonEl =\n",
              "          document.querySelector('#df-626eae7f-9c2b-4f95-8d5e-c92485cbe1d5 button.colab-df-convert');\n",
              "        buttonEl.style.display =\n",
              "          google.colab.kernel.accessAllowed ? 'block' : 'none';\n",
              "\n",
              "        async function convertToInteractive(key) {\n",
              "          const element = document.querySelector('#df-626eae7f-9c2b-4f95-8d5e-c92485cbe1d5');\n",
              "          const dataTable =\n",
              "            await google.colab.kernel.invokeFunction('convertToInteractive',\n",
              "                                                     [key], {});\n",
              "          if (!dataTable) return;\n",
              "\n",
              "          const docLinkHtml = 'Like what you see? Visit the ' +\n",
              "            '<a target=\"_blank\" href=https://colab.research.google.com/notebooks/data_table.ipynb>data table notebook</a>'\n",
              "            + ' to learn more about interactive tables.';\n",
              "          element.innerHTML = '';\n",
              "          dataTable['output_type'] = 'display_data';\n",
              "          await google.colab.output.renderOutput(dataTable, element);\n",
              "          const docLink = document.createElement('div');\n",
              "          docLink.innerHTML = docLinkHtml;\n",
              "          element.appendChild(docLink);\n",
              "        }\n",
              "      </script>\n",
              "    </div>\n",
              "  </div>\n",
              "  "
            ]
          },
          "metadata": {},
          "execution_count": 70
        }
      ],
      "source": [
        "data = pd.read_csv('/content/drive/MyDrive/Deep Learning/Churn_Modelling.csv')\n",
        "data.head(2)"
      ]
    },
    {
      "cell_type": "markdown",
      "source": [
        "Creating dependent and target variables"
      ],
      "metadata": {
        "id": "p6qwzaBi15Dr"
      }
    },
    {
      "cell_type": "code",
      "source": [
        "X = data.iloc[:, 3:13]\n",
        "y = data.iloc[:, 13]"
      ],
      "metadata": {
        "id": "6knAx_Oa1ZpT"
      },
      "execution_count": 71,
      "outputs": []
    },
    {
      "cell_type": "markdown",
      "source": [
        "Categorical features to dummy variables"
      ],
      "metadata": {
        "id": "o5nCI10G2BiE"
      }
    },
    {
      "cell_type": "code",
      "source": [
        "geography = pd.get_dummies(X['Geography'], drop_first=True)\n",
        "gender = pd.get_dummies(X['Gender'], drop_first=True)"
      ],
      "metadata": {
        "id": "Vqa4T0Pt1ZsH"
      },
      "execution_count": 72,
      "outputs": []
    },
    {
      "cell_type": "code",
      "source": [
        "X = pd.concat([X, geography, gender], axis=1)\n",
        "X = X.drop(['Geography', 'Gender'], axis=1)"
      ],
      "metadata": {
        "id": "2S72SSx_1Zvs"
      },
      "execution_count": 73,
      "outputs": []
    },
    {
      "cell_type": "markdown",
      "source": [
        "Train Test Split"
      ],
      "metadata": {
        "id": "9FwLk2QE2q5I"
      }
    },
    {
      "cell_type": "code",
      "source": [
        "from sklearn.model_selection import train_test_split\n",
        "X_train, X_test, y_train, y_test = train_test_split(X, y, test_size=0.2, random_state=0)"
      ],
      "metadata": {
        "id": "WBZOBPqC2kef"
      },
      "execution_count": 74,
      "outputs": []
    },
    {
      "cell_type": "markdown",
      "source": [
        "Feature Scaling"
      ],
      "metadata": {
        "id": "4bHfrlW129Zx"
      }
    },
    {
      "cell_type": "code",
      "source": [
        "from sklearn.preprocessing import StandardScaler\n",
        "sc = StandardScaler()\n",
        "X_train = sc.fit_transform(X_train)\n",
        "X_test = sc.transform(X_test)"
      ],
      "metadata": {
        "id": "rVWXYvKC2kj_"
      },
      "execution_count": 75,
      "outputs": []
    },
    {
      "cell_type": "markdown",
      "source": [
        "Creating the ANN"
      ],
      "metadata": {
        "id": "BKgcNBQ13V6g"
      }
    },
    {
      "cell_type": "markdown",
      "source": [
        "Importing the libraries"
      ],
      "metadata": {
        "id": "5FbRAKhg355R"
      }
    },
    {
      "cell_type": "code",
      "source": [
        "import keras \n",
        "from keras.models import Sequential\n",
        "from keras.layers import Dense\n",
        "from keras.layers import LeakyReLU, PReLU, ELU\n",
        "from keras.layers import Dropout"
      ],
      "metadata": {
        "id": "9a9pYo1i3ZBd"
      },
      "execution_count": 76,
      "outputs": []
    },
    {
      "cell_type": "markdown",
      "source": [
        "Initializing the ANN"
      ],
      "metadata": {
        "id": "1A3yB9gp39Rc"
      }
    },
    {
      "cell_type": "code",
      "source": [
        "classifier = Sequential()"
      ],
      "metadata": {
        "id": "zIgDuAV64BCk"
      },
      "execution_count": 77,
      "outputs": []
    },
    {
      "cell_type": "markdown",
      "source": [
        "Adding the input layer and the first first hidden layer"
      ],
      "metadata": {
        "id": "oUU9mHYf4GZS"
      }
    },
    {
      "cell_type": "code",
      "source": [
        "classifier.add(Dense(units = 10, kernel_initializer='he_normal',activation='relu',input_dim = 11))"
      ],
      "metadata": {
        "id": "29-IosZh4aQV"
      },
      "execution_count": 78,
      "outputs": []
    },
    {
      "cell_type": "markdown",
      "source": [
        "Drop out Layer"
      ],
      "metadata": {
        "id": "x2KHCAUm99iD"
      }
    },
    {
      "cell_type": "code",
      "source": [
        "classifier.add(Dropout(0.3))"
      ],
      "metadata": {
        "id": "EjnpmnqU98zc"
      },
      "execution_count": 79,
      "outputs": []
    },
    {
      "cell_type": "markdown",
      "source": [
        "Adding the second input layer"
      ],
      "metadata": {
        "id": "SfLGH_7u4_lo"
      }
    },
    {
      "cell_type": "code",
      "source": [
        "classifier.add(Dense(units = 20, kernel_initializer = 'he_normal',activation='relu'))"
      ],
      "metadata": {
        "id": "X-aVbow95GEb"
      },
      "execution_count": 80,
      "outputs": []
    },
    {
      "cell_type": "markdown",
      "source": [
        "Drop out Layer"
      ],
      "metadata": {
        "id": "dCjy0RyS-bnA"
      }
    },
    {
      "cell_type": "code",
      "source": [
        "classifier.add(Dropout(0.4))"
      ],
      "metadata": {
        "id": "Tajh3INz-WLp"
      },
      "execution_count": 81,
      "outputs": []
    },
    {
      "cell_type": "markdown",
      "source": [
        "Adding the another input layer"
      ],
      "metadata": {
        "id": "uqSJZD6n-eUw"
      }
    },
    {
      "cell_type": "code",
      "source": [
        "classifier.add(Dense(units = 15, kernel_initializer = 'he_normal',activation='relu'))"
      ],
      "metadata": {
        "id": "F3gvVfW496V7"
      },
      "execution_count": 82,
      "outputs": []
    },
    {
      "cell_type": "markdown",
      "source": [
        "Drop out Layer"
      ],
      "metadata": {
        "id": "-i9p6jco-cnk"
      }
    },
    {
      "cell_type": "code",
      "source": [
        "classifier.add(Dropout(0.2))"
      ],
      "metadata": {
        "id": "9V7AvcM--XNA"
      },
      "execution_count": 83,
      "outputs": []
    },
    {
      "cell_type": "markdown",
      "source": [
        "Adding the output layer "
      ],
      "metadata": {
        "id": "DKM26UUN5K-0"
      }
    },
    {
      "cell_type": "code",
      "source": [
        "classifier.add(Dense(units = 1, kernel_initializer = 'glorot_uniform', activation = 'sigmoid'))"
      ],
      "metadata": {
        "id": "kRKodH-W5Orv"
      },
      "execution_count": 84,
      "outputs": []
    },
    {
      "cell_type": "markdown",
      "source": [
        "Compiling the ANN"
      ],
      "metadata": {
        "id": "ezZsXxQn5ZY4"
      }
    },
    {
      "cell_type": "code",
      "source": [
        "classifier.compile(optimizer='adam', loss='binary_crossentropy', metrics=['accuracy'])"
      ],
      "metadata": {
        "id": "DLiIf9lo5XyB"
      },
      "execution_count": 85,
      "outputs": []
    },
    {
      "cell_type": "markdown",
      "source": [
        "Fitting ANN to the Train set# "
      ],
      "metadata": {
        "id": "bW2LcV5w5u1z"
      }
    },
    {
      "cell_type": "code",
      "source": [
        "model_history = classifier.fit(X_train, y_train, validation_split=0.33, batch_size=10, epochs=100)"
      ],
      "metadata": {
        "colab": {
          "base_uri": "https://localhost:8080/"
        },
        "id": "YMVPbI0U5xUR",
        "outputId": "9a63db3c-b949-474b-86cd-00a9b02ce686"
      },
      "execution_count": 86,
      "outputs": [
        {
          "output_type": "stream",
          "name": "stdout",
          "text": [
            "Epoch 1/100\n",
            "536/536 [==============================] - 2s 3ms/step - loss: 0.5979 - accuracy: 0.7606 - val_loss: 0.5160 - val_accuracy: 0.7955\n",
            "Epoch 2/100\n",
            "536/536 [==============================] - 1s 2ms/step - loss: 0.5238 - accuracy: 0.7931 - val_loss: 0.4944 - val_accuracy: 0.7955\n",
            "Epoch 3/100\n",
            "536/536 [==============================] - 1s 2ms/step - loss: 0.5023 - accuracy: 0.7934 - val_loss: 0.4800 - val_accuracy: 0.7955\n",
            "Epoch 4/100\n",
            "536/536 [==============================] - 1s 2ms/step - loss: 0.4911 - accuracy: 0.7966 - val_loss: 0.4727 - val_accuracy: 0.7963\n",
            "Epoch 5/100\n",
            "536/536 [==============================] - 1s 2ms/step - loss: 0.4787 - accuracy: 0.8001 - val_loss: 0.4572 - val_accuracy: 0.7986\n",
            "Epoch 6/100\n",
            "536/536 [==============================] - 1s 2ms/step - loss: 0.4714 - accuracy: 0.7987 - val_loss: 0.4524 - val_accuracy: 0.8027\n",
            "Epoch 7/100\n",
            "536/536 [==============================] - 1s 2ms/step - loss: 0.4633 - accuracy: 0.8003 - val_loss: 0.4486 - val_accuracy: 0.8031\n",
            "Epoch 8/100\n",
            "536/536 [==============================] - 1s 2ms/step - loss: 0.4546 - accuracy: 0.8054 - val_loss: 0.4391 - val_accuracy: 0.8054\n",
            "Epoch 9/100\n",
            "536/536 [==============================] - 1s 2ms/step - loss: 0.4517 - accuracy: 0.8033 - val_loss: 0.4402 - val_accuracy: 0.8058\n",
            "Epoch 10/100\n",
            "536/536 [==============================] - 1s 2ms/step - loss: 0.4475 - accuracy: 0.8050 - val_loss: 0.4390 - val_accuracy: 0.8103\n",
            "Epoch 11/100\n",
            "536/536 [==============================] - 1s 2ms/step - loss: 0.4468 - accuracy: 0.8048 - val_loss: 0.4316 - val_accuracy: 0.8122\n",
            "Epoch 12/100\n",
            "536/536 [==============================] - 1s 2ms/step - loss: 0.4376 - accuracy: 0.8130 - val_loss: 0.4301 - val_accuracy: 0.8148\n",
            "Epoch 13/100\n",
            "536/536 [==============================] - 1s 2ms/step - loss: 0.4384 - accuracy: 0.8095 - val_loss: 0.4307 - val_accuracy: 0.8152\n",
            "Epoch 14/100\n",
            "536/536 [==============================] - 1s 2ms/step - loss: 0.4385 - accuracy: 0.8097 - val_loss: 0.4261 - val_accuracy: 0.8167\n",
            "Epoch 15/100\n",
            "536/536 [==============================] - 1s 2ms/step - loss: 0.4352 - accuracy: 0.8119 - val_loss: 0.4268 - val_accuracy: 0.8190\n",
            "Epoch 16/100\n",
            "536/536 [==============================] - 1s 2ms/step - loss: 0.4314 - accuracy: 0.8158 - val_loss: 0.4261 - val_accuracy: 0.8201\n",
            "Epoch 17/100\n",
            "536/536 [==============================] - 1s 2ms/step - loss: 0.4282 - accuracy: 0.8153 - val_loss: 0.4224 - val_accuracy: 0.8160\n",
            "Epoch 18/100\n",
            "536/536 [==============================] - 1s 2ms/step - loss: 0.4283 - accuracy: 0.8173 - val_loss: 0.4204 - val_accuracy: 0.8198\n",
            "Epoch 19/100\n",
            "536/536 [==============================] - 1s 2ms/step - loss: 0.4205 - accuracy: 0.8188 - val_loss: 0.4163 - val_accuracy: 0.8258\n",
            "Epoch 20/100\n",
            "536/536 [==============================] - 1s 2ms/step - loss: 0.4216 - accuracy: 0.8231 - val_loss: 0.4085 - val_accuracy: 0.8277\n",
            "Epoch 21/100\n",
            "536/536 [==============================] - 1s 2ms/step - loss: 0.4207 - accuracy: 0.8224 - val_loss: 0.4163 - val_accuracy: 0.8289\n",
            "Epoch 22/100\n",
            "536/536 [==============================] - 1s 2ms/step - loss: 0.4202 - accuracy: 0.8218 - val_loss: 0.4060 - val_accuracy: 0.8311\n",
            "Epoch 23/100\n",
            "536/536 [==============================] - 1s 2ms/step - loss: 0.4221 - accuracy: 0.8212 - val_loss: 0.4107 - val_accuracy: 0.8300\n",
            "Epoch 24/100\n",
            "536/536 [==============================] - 1s 2ms/step - loss: 0.4176 - accuracy: 0.8231 - val_loss: 0.4053 - val_accuracy: 0.8349\n",
            "Epoch 25/100\n",
            "536/536 [==============================] - 1s 2ms/step - loss: 0.4145 - accuracy: 0.8235 - val_loss: 0.4052 - val_accuracy: 0.8379\n",
            "Epoch 26/100\n",
            "536/536 [==============================] - 1s 2ms/step - loss: 0.4145 - accuracy: 0.8242 - val_loss: 0.4043 - val_accuracy: 0.8345\n",
            "Epoch 27/100\n",
            "536/536 [==============================] - 1s 2ms/step - loss: 0.4097 - accuracy: 0.8263 - val_loss: 0.3945 - val_accuracy: 0.8364\n",
            "Epoch 28/100\n",
            "536/536 [==============================] - 1s 2ms/step - loss: 0.4020 - accuracy: 0.8309 - val_loss: 0.4002 - val_accuracy: 0.8398\n",
            "Epoch 29/100\n",
            "536/536 [==============================] - 1s 2ms/step - loss: 0.4034 - accuracy: 0.8308 - val_loss: 0.3999 - val_accuracy: 0.8432\n",
            "Epoch 30/100\n",
            "536/536 [==============================] - 1s 2ms/step - loss: 0.4020 - accuracy: 0.8334 - val_loss: 0.3888 - val_accuracy: 0.8357\n",
            "Epoch 31/100\n",
            "536/536 [==============================] - 1s 2ms/step - loss: 0.4010 - accuracy: 0.8332 - val_loss: 0.3911 - val_accuracy: 0.8364\n",
            "Epoch 32/100\n",
            "536/536 [==============================] - 1s 2ms/step - loss: 0.3968 - accuracy: 0.8317 - val_loss: 0.3898 - val_accuracy: 0.8410\n",
            "Epoch 33/100\n",
            "536/536 [==============================] - 1s 2ms/step - loss: 0.3982 - accuracy: 0.8313 - val_loss: 0.3844 - val_accuracy: 0.8391\n",
            "Epoch 34/100\n",
            "536/536 [==============================] - 1s 2ms/step - loss: 0.3925 - accuracy: 0.8373 - val_loss: 0.3792 - val_accuracy: 0.8444\n",
            "Epoch 35/100\n",
            "536/536 [==============================] - 1s 2ms/step - loss: 0.3880 - accuracy: 0.8326 - val_loss: 0.3751 - val_accuracy: 0.8413\n",
            "Epoch 36/100\n",
            "536/536 [==============================] - 1s 2ms/step - loss: 0.3959 - accuracy: 0.8337 - val_loss: 0.3852 - val_accuracy: 0.8398\n",
            "Epoch 37/100\n",
            "536/536 [==============================] - 1s 2ms/step - loss: 0.3899 - accuracy: 0.8352 - val_loss: 0.3806 - val_accuracy: 0.8459\n",
            "Epoch 38/100\n",
            "536/536 [==============================] - 1s 2ms/step - loss: 0.3879 - accuracy: 0.8349 - val_loss: 0.3803 - val_accuracy: 0.8470\n",
            "Epoch 39/100\n",
            "536/536 [==============================] - 1s 2ms/step - loss: 0.3922 - accuracy: 0.8350 - val_loss: 0.3855 - val_accuracy: 0.8391\n",
            "Epoch 40/100\n",
            "536/536 [==============================] - 1s 2ms/step - loss: 0.3848 - accuracy: 0.8412 - val_loss: 0.3825 - val_accuracy: 0.8440\n",
            "Epoch 41/100\n",
            "536/536 [==============================] - 1s 2ms/step - loss: 0.3855 - accuracy: 0.8403 - val_loss: 0.3837 - val_accuracy: 0.8470\n",
            "Epoch 42/100\n",
            "536/536 [==============================] - 2s 3ms/step - loss: 0.3818 - accuracy: 0.8382 - val_loss: 0.3765 - val_accuracy: 0.8455\n",
            "Epoch 43/100\n",
            "536/536 [==============================] - 2s 3ms/step - loss: 0.3806 - accuracy: 0.8429 - val_loss: 0.3747 - val_accuracy: 0.8451\n",
            "Epoch 44/100\n",
            "536/536 [==============================] - 1s 2ms/step - loss: 0.3847 - accuracy: 0.8397 - val_loss: 0.3782 - val_accuracy: 0.8432\n",
            "Epoch 45/100\n",
            "536/536 [==============================] - 1s 2ms/step - loss: 0.3817 - accuracy: 0.8423 - val_loss: 0.3741 - val_accuracy: 0.8474\n",
            "Epoch 46/100\n",
            "536/536 [==============================] - 1s 2ms/step - loss: 0.3814 - accuracy: 0.8399 - val_loss: 0.3756 - val_accuracy: 0.8459\n",
            "Epoch 47/100\n",
            "536/536 [==============================] - 1s 2ms/step - loss: 0.3825 - accuracy: 0.8365 - val_loss: 0.3715 - val_accuracy: 0.8478\n",
            "Epoch 48/100\n",
            "536/536 [==============================] - 1s 2ms/step - loss: 0.3821 - accuracy: 0.8369 - val_loss: 0.3679 - val_accuracy: 0.8482\n",
            "Epoch 49/100\n",
            "536/536 [==============================] - 1s 2ms/step - loss: 0.3791 - accuracy: 0.8403 - val_loss: 0.3714 - val_accuracy: 0.8482\n",
            "Epoch 50/100\n",
            "536/536 [==============================] - 1s 2ms/step - loss: 0.3820 - accuracy: 0.8380 - val_loss: 0.3706 - val_accuracy: 0.8512\n",
            "Epoch 51/100\n",
            "536/536 [==============================] - 1s 2ms/step - loss: 0.3799 - accuracy: 0.8401 - val_loss: 0.3666 - val_accuracy: 0.8478\n",
            "Epoch 52/100\n",
            "536/536 [==============================] - 1s 2ms/step - loss: 0.3852 - accuracy: 0.8371 - val_loss: 0.3780 - val_accuracy: 0.8493\n",
            "Epoch 53/100\n",
            "536/536 [==============================] - 1s 2ms/step - loss: 0.3820 - accuracy: 0.8423 - val_loss: 0.3731 - val_accuracy: 0.8493\n",
            "Epoch 54/100\n",
            "536/536 [==============================] - 1s 2ms/step - loss: 0.3810 - accuracy: 0.8386 - val_loss: 0.3697 - val_accuracy: 0.8463\n",
            "Epoch 55/100\n",
            "536/536 [==============================] - 1s 2ms/step - loss: 0.3838 - accuracy: 0.8425 - val_loss: 0.3729 - val_accuracy: 0.8478\n",
            "Epoch 56/100\n",
            "536/536 [==============================] - 1s 2ms/step - loss: 0.3787 - accuracy: 0.8440 - val_loss: 0.3721 - val_accuracy: 0.8474\n",
            "Epoch 57/100\n",
            "536/536 [==============================] - 1s 2ms/step - loss: 0.3764 - accuracy: 0.8416 - val_loss: 0.3691 - val_accuracy: 0.8482\n",
            "Epoch 58/100\n",
            "536/536 [==============================] - 1s 2ms/step - loss: 0.3779 - accuracy: 0.8418 - val_loss: 0.3686 - val_accuracy: 0.8474\n",
            "Epoch 59/100\n",
            "536/536 [==============================] - 1s 2ms/step - loss: 0.3737 - accuracy: 0.8468 - val_loss: 0.3740 - val_accuracy: 0.8504\n",
            "Epoch 60/100\n",
            "536/536 [==============================] - 1s 2ms/step - loss: 0.3810 - accuracy: 0.8429 - val_loss: 0.3752 - val_accuracy: 0.8459\n",
            "Epoch 61/100\n",
            "536/536 [==============================] - 1s 2ms/step - loss: 0.3741 - accuracy: 0.8388 - val_loss: 0.3700 - val_accuracy: 0.8508\n",
            "Epoch 62/100\n",
            "536/536 [==============================] - 1s 2ms/step - loss: 0.3772 - accuracy: 0.8423 - val_loss: 0.3716 - val_accuracy: 0.8504\n",
            "Epoch 63/100\n",
            "536/536 [==============================] - 1s 2ms/step - loss: 0.3748 - accuracy: 0.8446 - val_loss: 0.3724 - val_accuracy: 0.8516\n",
            "Epoch 64/100\n",
            "536/536 [==============================] - 1s 2ms/step - loss: 0.3782 - accuracy: 0.8412 - val_loss: 0.3682 - val_accuracy: 0.8489\n",
            "Epoch 65/100\n",
            "536/536 [==============================] - 1s 2ms/step - loss: 0.3812 - accuracy: 0.8410 - val_loss: 0.3730 - val_accuracy: 0.8485\n",
            "Epoch 66/100\n",
            "536/536 [==============================] - 1s 2ms/step - loss: 0.3746 - accuracy: 0.8393 - val_loss: 0.3775 - val_accuracy: 0.8497\n",
            "Epoch 67/100\n",
            "536/536 [==============================] - 1s 2ms/step - loss: 0.3785 - accuracy: 0.8438 - val_loss: 0.3675 - val_accuracy: 0.8482\n",
            "Epoch 68/100\n",
            "536/536 [==============================] - 1s 2ms/step - loss: 0.3823 - accuracy: 0.8380 - val_loss: 0.3744 - val_accuracy: 0.8497\n",
            "Epoch 69/100\n",
            "536/536 [==============================] - 1s 2ms/step - loss: 0.3798 - accuracy: 0.8390 - val_loss: 0.3756 - val_accuracy: 0.8501\n",
            "Epoch 70/100\n",
            "536/536 [==============================] - 1s 2ms/step - loss: 0.3737 - accuracy: 0.8431 - val_loss: 0.3710 - val_accuracy: 0.8478\n",
            "Epoch 71/100\n",
            "536/536 [==============================] - 1s 2ms/step - loss: 0.3831 - accuracy: 0.8384 - val_loss: 0.3727 - val_accuracy: 0.8482\n",
            "Epoch 72/100\n",
            "536/536 [==============================] - 1s 2ms/step - loss: 0.3731 - accuracy: 0.8438 - val_loss: 0.3728 - val_accuracy: 0.8482\n",
            "Epoch 73/100\n",
            "536/536 [==============================] - 1s 2ms/step - loss: 0.3768 - accuracy: 0.8414 - val_loss: 0.3703 - val_accuracy: 0.8455\n",
            "Epoch 74/100\n",
            "536/536 [==============================] - 1s 2ms/step - loss: 0.3789 - accuracy: 0.8403 - val_loss: 0.3785 - val_accuracy: 0.8466\n",
            "Epoch 75/100\n",
            "536/536 [==============================] - 1s 2ms/step - loss: 0.3759 - accuracy: 0.8419 - val_loss: 0.3705 - val_accuracy: 0.8470\n",
            "Epoch 76/100\n",
            "536/536 [==============================] - 1s 2ms/step - loss: 0.3760 - accuracy: 0.8455 - val_loss: 0.3733 - val_accuracy: 0.8455\n",
            "Epoch 77/100\n",
            "536/536 [==============================] - 1s 2ms/step - loss: 0.3757 - accuracy: 0.8395 - val_loss: 0.3767 - val_accuracy: 0.8489\n",
            "Epoch 78/100\n",
            "536/536 [==============================] - 1s 2ms/step - loss: 0.3682 - accuracy: 0.8421 - val_loss: 0.3703 - val_accuracy: 0.8451\n",
            "Epoch 79/100\n",
            "536/536 [==============================] - 1s 2ms/step - loss: 0.3709 - accuracy: 0.8421 - val_loss: 0.3775 - val_accuracy: 0.8474\n",
            "Epoch 80/100\n",
            "536/536 [==============================] - 1s 2ms/step - loss: 0.3757 - accuracy: 0.8461 - val_loss: 0.3737 - val_accuracy: 0.8485\n",
            "Epoch 81/100\n",
            "536/536 [==============================] - 1s 2ms/step - loss: 0.3690 - accuracy: 0.8433 - val_loss: 0.3747 - val_accuracy: 0.8497\n",
            "Epoch 82/100\n",
            "536/536 [==============================] - 1s 2ms/step - loss: 0.3691 - accuracy: 0.8498 - val_loss: 0.3713 - val_accuracy: 0.8504\n",
            "Epoch 83/100\n",
            "536/536 [==============================] - 1s 2ms/step - loss: 0.3774 - accuracy: 0.8431 - val_loss: 0.3719 - val_accuracy: 0.8508\n",
            "Epoch 84/100\n",
            "536/536 [==============================] - 1s 2ms/step - loss: 0.3719 - accuracy: 0.8425 - val_loss: 0.3694 - val_accuracy: 0.8493\n",
            "Epoch 85/100\n",
            "536/536 [==============================] - 1s 2ms/step - loss: 0.3813 - accuracy: 0.8403 - val_loss: 0.3704 - val_accuracy: 0.8493\n",
            "Epoch 86/100\n",
            "536/536 [==============================] - 1s 2ms/step - loss: 0.3715 - accuracy: 0.8472 - val_loss: 0.3731 - val_accuracy: 0.8516\n",
            "Epoch 87/100\n",
            "536/536 [==============================] - 1s 2ms/step - loss: 0.3747 - accuracy: 0.8431 - val_loss: 0.3683 - val_accuracy: 0.8493\n",
            "Epoch 88/100\n",
            "536/536 [==============================] - 1s 2ms/step - loss: 0.3782 - accuracy: 0.8393 - val_loss: 0.3712 - val_accuracy: 0.8516\n",
            "Epoch 89/100\n",
            "536/536 [==============================] - 1s 2ms/step - loss: 0.3696 - accuracy: 0.8477 - val_loss: 0.3647 - val_accuracy: 0.8512\n",
            "Epoch 90/100\n",
            "536/536 [==============================] - 1s 2ms/step - loss: 0.3744 - accuracy: 0.8453 - val_loss: 0.3744 - val_accuracy: 0.8504\n",
            "Epoch 91/100\n",
            "536/536 [==============================] - 1s 2ms/step - loss: 0.3728 - accuracy: 0.8419 - val_loss: 0.3652 - val_accuracy: 0.8531\n",
            "Epoch 92/100\n",
            "536/536 [==============================] - 1s 2ms/step - loss: 0.3737 - accuracy: 0.8451 - val_loss: 0.3751 - val_accuracy: 0.8512\n",
            "Epoch 93/100\n",
            "536/536 [==============================] - 1s 2ms/step - loss: 0.3669 - accuracy: 0.8487 - val_loss: 0.3668 - val_accuracy: 0.8580\n",
            "Epoch 94/100\n",
            "536/536 [==============================] - 1s 2ms/step - loss: 0.3709 - accuracy: 0.8492 - val_loss: 0.3651 - val_accuracy: 0.8557\n",
            "Epoch 95/100\n",
            "536/536 [==============================] - 1s 2ms/step - loss: 0.3692 - accuracy: 0.8502 - val_loss: 0.3683 - val_accuracy: 0.8519\n",
            "Epoch 96/100\n",
            "536/536 [==============================] - 1s 2ms/step - loss: 0.3758 - accuracy: 0.8446 - val_loss: 0.3712 - val_accuracy: 0.8493\n",
            "Epoch 97/100\n",
            "536/536 [==============================] - 1s 2ms/step - loss: 0.3805 - accuracy: 0.8380 - val_loss: 0.3732 - val_accuracy: 0.8527\n",
            "Epoch 98/100\n",
            "536/536 [==============================] - 1s 2ms/step - loss: 0.3772 - accuracy: 0.8449 - val_loss: 0.3697 - val_accuracy: 0.8527\n",
            "Epoch 99/100\n",
            "536/536 [==============================] - 1s 2ms/step - loss: 0.3727 - accuracy: 0.8436 - val_loss: 0.3673 - val_accuracy: 0.8531\n",
            "Epoch 100/100\n",
            "536/536 [==============================] - 1s 2ms/step - loss: 0.3736 - accuracy: 0.8429 - val_loss: 0.3729 - val_accuracy: 0.8504\n"
          ]
        }
      ]
    },
    {
      "cell_type": "markdown",
      "source": [
        "Data in history"
      ],
      "metadata": {
        "id": "6V_IrEpe7mz7"
      }
    },
    {
      "cell_type": "code",
      "source": [
        "print(model_history.history.keys())"
      ],
      "metadata": {
        "colab": {
          "base_uri": "https://localhost:8080/"
        },
        "id": "5hOcZrSK7rof",
        "outputId": "a7e7654a-d0e0-4285-8390-148343704b21"
      },
      "execution_count": 88,
      "outputs": [
        {
          "output_type": "stream",
          "name": "stdout",
          "text": [
            "dict_keys(['loss', 'accuracy', 'val_loss', 'val_accuracy'])\n"
          ]
        }
      ]
    },
    {
      "cell_type": "markdown",
      "source": [
        "Summary for history"
      ],
      "metadata": {
        "id": "ZZ51rLH07z4H"
      }
    },
    {
      "cell_type": "code",
      "source": [
        "plt.plot(model_history.history['accuracy'])\n",
        "plt.plot(model_history.history['val_accuracy'])\n",
        "plt.title('model accuracy')\n",
        "plt.xlabel('accuracy')\n",
        "plt.ylabel('epoch')\n",
        "plt.legend(['train', 'test'], loc='upper left')\n",
        "plt.show()"
      ],
      "metadata": {
        "colab": {
          "base_uri": "https://localhost:8080/",
          "height": 295
        },
        "id": "nX018g4C72uU",
        "outputId": "ce96c35c-785d-495d-ba19-ad0b73948600"
      },
      "execution_count": 89,
      "outputs": [
        {
          "output_type": "display_data",
          "data": {
            "text/plain": [
              "<Figure size 432x288 with 1 Axes>"
            ],
            "image/png": "[encoded data removed]"
          },
          "metadata": {
            "needs_background": "light"
          }
        }
      ]
    },
    {
      "cell_type": "markdown",
      "source": [
        "Predictions and Model Evaluation"
      ],
      "metadata": {
        "id": "MGhR2MSt8a3m"
      }
    },
    {
      "cell_type": "code",
      "source": [
        "y_pred = classifier.predict(X_test)\n",
        "y_pred = (y_pred > 0.5)"
      ],
      "metadata": {
        "id": "Rz3Za7Gi8jXW"
      },
      "execution_count": 91,
      "outputs": []
    },
    {
      "cell_type": "markdown",
      "source": [
        "Confusion Matrix"
      ],
      "metadata": {
        "id": "q_kw7UzR8tkb"
      }
    },
    {
      "cell_type": "code",
      "source": [
        "from sklearn.metrics import confusion_matrix\n",
        "cm = confusion_matrix(y_test, y_pred)\n",
        "cm"
      ],
      "metadata": {
        "colab": {
          "base_uri": "https://localhost:8080/"
        },
        "id": "WwIAob-l8r9T",
        "outputId": "e1055091-6845-45db-f2d2-3ed7e49dd22a"
      },
      "execution_count": 92,
      "outputs": [
        {
          "output_type": "execute_result",
          "data": {
            "text/plain": [
              "array([[1539,   56],\n",
              "       [ 215,  190]])"
            ]
          },
          "metadata": {},
          "execution_count": 92
        }
      ]
    },
    {
      "cell_type": "markdown",
      "source": [
        "Accuracy"
      ],
      "metadata": {
        "id": "aWf-6SD_83KQ"
      }
    },
    {
      "cell_type": "code",
      "source": [
        "from sklearn.metrics import accuracy_score\n",
        "score = accuracy_score(y_pred, y_test)\n",
        "score"
      ],
      "metadata": {
        "colab": {
          "base_uri": "https://localhost:8080/"
        },
        "id": "JInVdcW5846d",
        "outputId": "bef56968-ef51-4ed2-fbb0-ed19eb4fc81e"
      },
      "execution_count": 93,
      "outputs": [
        {
          "output_type": "execute_result",
          "data": {
            "text/plain": [
              "0.8645"
            ]
          },
          "metadata": {},
          "execution_count": 93
        }
      ]
    }
  ]
}