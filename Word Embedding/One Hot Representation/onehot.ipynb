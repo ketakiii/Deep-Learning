{
  "nbformat": 4,
  "nbformat_minor": 0,
  "metadata": {
    "colab": {
      "name": "onehot.ipynb",
      "provenance": []
    },
    "kernelspec": {
      "name": "python3",
      "display_name": "Python 3"
    },
    "language_info": {
      "name": "python"
    }
  },
  "cells": [
    {
      "cell_type": "markdown",
      "source": [
        "Installing libraries"
      ],
      "metadata": {
        "id": "p7XTh9uf765V"
      }
    },
    {
      "cell_type": "code",
      "source": [
        "!pip install tensorflow"
      ],
      "metadata": {
        "colab": {
          "base_uri": "https://localhost:8080/"
        },
        "id": "Q4-5Jlkg70Md",
        "outputId": "0bfad552-8b72-480b-ea35-34ac48c1ba33"
      },
      "execution_count": 4,
      "outputs": [
        {
          "output_type": "stream",
          "name": "stdout",
          "text": [
            "Looking in indexes: https://pypi.org/simple, https://us-python.pkg.dev/colab-wheels/public/simple/\n",
            "Requirement already satisfied: tensorflow in /usr/local/lib/python3.7/dist-packages (2.8.2+zzzcolab20220527125636)\n",
            "Requirement already satisfied: numpy>=1.20 in /usr/local/lib/python3.7/dist-packages (from tensorflow) (1.21.6)\n",
            "Requirement already satisfied: flatbuffers>=1.12 in /usr/local/lib/python3.7/dist-packages (from tensorflow) (2.0)\n",
            "Requirement already satisfied: six>=1.12.0 in /usr/local/lib/python3.7/dist-packages (from tensorflow) (1.15.0)\n",
            "Requirement already satisfied: typing-extensions>=3.6.6 in /usr/local/lib/python3.7/dist-packages (from tensorflow) (4.2.0)\n",
            "Requirement already satisfied: tensorboard<2.9,>=2.8 in /usr/local/lib/python3.7/dist-packages (from tensorflow) (2.8.0)\n",
            "Requirement already satisfied: termcolor>=1.1.0 in /usr/local/lib/python3.7/dist-packages (from tensorflow) (1.1.0)\n",
            "Requirement already satisfied: astunparse>=1.6.0 in /usr/local/lib/python3.7/dist-packages (from tensorflow) (1.6.3)\n",
            "Requirement already satisfied: opt-einsum>=2.3.2 in /usr/local/lib/python3.7/dist-packages (from tensorflow) (3.3.0)\n",
            "Requirement already satisfied: grpcio<2.0,>=1.24.3 in /usr/local/lib/python3.7/dist-packages (from tensorflow) (1.46.3)\n",
            "Requirement already satisfied: tensorflow-estimator<2.9,>=2.8 in /usr/local/lib/python3.7/dist-packages (from tensorflow) (2.8.0)\n",
            "Requirement already satisfied: google-pasta>=0.1.1 in /usr/local/lib/python3.7/dist-packages (from tensorflow) (0.2.0)\n",
            "Requirement already satisfied: gast>=0.2.1 in /usr/local/lib/python3.7/dist-packages (from tensorflow) (0.5.3)\n",
            "Requirement already satisfied: libclang>=9.0.1 in /usr/local/lib/python3.7/dist-packages (from tensorflow) (14.0.1)\n",
            "Requirement already satisfied: keras<2.9,>=2.8.0rc0 in /usr/local/lib/python3.7/dist-packages (from tensorflow) (2.8.0)\n",
            "Requirement already satisfied: h5py>=2.9.0 in /usr/local/lib/python3.7/dist-packages (from tensorflow) (3.1.0)\n",
            "Requirement already satisfied: absl-py>=0.4.0 in /usr/local/lib/python3.7/dist-packages (from tensorflow) (1.0.0)\n",
            "Requirement already satisfied: protobuf<3.20,>=3.9.2 in /usr/local/lib/python3.7/dist-packages (from tensorflow) (3.17.3)\n",
            "Requirement already satisfied: keras-preprocessing>=1.1.1 in /usr/local/lib/python3.7/dist-packages (from tensorflow) (1.1.2)\n",
            "Requirement already satisfied: setuptools in /usr/local/lib/python3.7/dist-packages (from tensorflow) (57.4.0)\n",
            "Requirement already satisfied: wrapt>=1.11.0 in /usr/local/lib/python3.7/dist-packages (from tensorflow) (1.14.1)\n",
            "Requirement already satisfied: tensorflow-io-gcs-filesystem>=0.23.1 in /usr/local/lib/python3.7/dist-packages (from tensorflow) (0.26.0)\n",
            "Requirement already satisfied: wheel<1.0,>=0.23.0 in /usr/local/lib/python3.7/dist-packages (from astunparse>=1.6.0->tensorflow) (0.37.1)\n",
            "Requirement already satisfied: cached-property in /usr/local/lib/python3.7/dist-packages (from h5py>=2.9.0->tensorflow) (1.5.2)\n",
            "Requirement already satisfied: tensorboard-plugin-wit>=1.6.0 in /usr/local/lib/python3.7/dist-packages (from tensorboard<2.9,>=2.8->tensorflow) (1.8.1)\n",
            "Requirement already satisfied: tensorboard-data-server<0.7.0,>=0.6.0 in /usr/local/lib/python3.7/dist-packages (from tensorboard<2.9,>=2.8->tensorflow) (0.6.1)\n",
            "Requirement already satisfied: google-auth<3,>=1.6.3 in /usr/local/lib/python3.7/dist-packages (from tensorboard<2.9,>=2.8->tensorflow) (1.35.0)\n",
            "Requirement already satisfied: markdown>=2.6.8 in /usr/local/lib/python3.7/dist-packages (from tensorboard<2.9,>=2.8->tensorflow) (3.3.7)\n",
            "Requirement already satisfied: werkzeug>=0.11.15 in /usr/local/lib/python3.7/dist-packages (from tensorboard<2.9,>=2.8->tensorflow) (1.0.1)\n",
            "Requirement already satisfied: requests<3,>=2.21.0 in /usr/local/lib/python3.7/dist-packages (from tensorboard<2.9,>=2.8->tensorflow) (2.23.0)\n",
            "Requirement already satisfied: google-auth-oauthlib<0.5,>=0.4.1 in /usr/local/lib/python3.7/dist-packages (from tensorboard<2.9,>=2.8->tensorflow) (0.4.6)\n",
            "Requirement already satisfied: pyasn1-modules>=0.2.1 in /usr/local/lib/python3.7/dist-packages (from google-auth<3,>=1.6.3->tensorboard<2.9,>=2.8->tensorflow) (0.2.8)\n",
            "Requirement already satisfied: rsa<5,>=3.1.4 in /usr/local/lib/python3.7/dist-packages (from google-auth<3,>=1.6.3->tensorboard<2.9,>=2.8->tensorflow) (4.8)\n",
            "Requirement already satisfied: cachetools<5.0,>=2.0.0 in /usr/local/lib/python3.7/dist-packages (from google-auth<3,>=1.6.3->tensorboard<2.9,>=2.8->tensorflow) (4.2.4)\n",
            "Requirement already satisfied: requests-oauthlib>=0.7.0 in /usr/local/lib/python3.7/dist-packages (from google-auth-oauthlib<0.5,>=0.4.1->tensorboard<2.9,>=2.8->tensorflow) (1.3.1)\n",
            "Requirement already satisfied: importlib-metadata>=4.4 in /usr/local/lib/python3.7/dist-packages (from markdown>=2.6.8->tensorboard<2.9,>=2.8->tensorflow) (4.11.4)\n",
            "Requirement already satisfied: zipp>=0.5 in /usr/local/lib/python3.7/dist-packages (from importlib-metadata>=4.4->markdown>=2.6.8->tensorboard<2.9,>=2.8->tensorflow) (3.8.0)\n",
            "Requirement already satisfied: pyasn1<0.5.0,>=0.4.6 in /usr/local/lib/python3.7/dist-packages (from pyasn1-modules>=0.2.1->google-auth<3,>=1.6.3->tensorboard<2.9,>=2.8->tensorflow) (0.4.8)\n",
            "Requirement already satisfied: idna<3,>=2.5 in /usr/local/lib/python3.7/dist-packages (from requests<3,>=2.21.0->tensorboard<2.9,>=2.8->tensorflow) (2.10)\n",
            "Requirement already satisfied: chardet<4,>=3.0.2 in /usr/local/lib/python3.7/dist-packages (from requests<3,>=2.21.0->tensorboard<2.9,>=2.8->tensorflow) (3.0.4)\n",
            "Requirement already satisfied: urllib3!=1.25.0,!=1.25.1,<1.26,>=1.21.1 in /usr/local/lib/python3.7/dist-packages (from requests<3,>=2.21.0->tensorboard<2.9,>=2.8->tensorflow) (1.24.3)\n",
            "Requirement already satisfied: certifi>=2017.4.17 in /usr/local/lib/python3.7/dist-packages (from requests<3,>=2.21.0->tensorboard<2.9,>=2.8->tensorflow) (2022.5.18.1)\n",
            "Requirement already satisfied: oauthlib>=3.0.0 in /usr/local/lib/python3.7/dist-packages (from requests-oauthlib>=0.7.0->google-auth-oauthlib<0.5,>=0.4.1->tensorboard<2.9,>=2.8->tensorflow) (3.2.0)\n"
          ]
        }
      ]
    },
    {
      "cell_type": "markdown",
      "source": [
        "Importing libraries"
      ],
      "metadata": {
        "id": "OJsE5mGh7nux"
      }
    },
    {
      "cell_type": "code",
      "source": [
        "from tensorflow.keras.preprocessing.text import one_hot"
      ],
      "metadata": {
        "id": "FrPOo9AD6oYo"
      },
      "execution_count": 5,
      "outputs": []
    },
    {
      "cell_type": "markdown",
      "source": [
        "Example Sentences"
      ],
      "metadata": {
        "id": "yEEBXZ2Y8AQ_"
      }
    },
    {
      "cell_type": "code",
      "source": [
        "sentences = ['Joe waited for the train', \n",
        "             'The train was late', \n",
        "             'Mary and Samantha took the bus', \n",
        "             'Misha walked and looked around', \n",
        "             'Joe stood up and spoke to the crowd']"
      ],
      "metadata": {
        "id": "-jXHNv5x8CkN"
      },
      "execution_count": 6,
      "outputs": []
    },
    {
      "cell_type": "markdown",
      "source": [
        "Defining the vocabulary size"
      ],
      "metadata": {
        "id": "A8J79yog-CRn"
      }
    },
    {
      "cell_type": "code",
      "source": [
        "vocabsize=10000"
      ],
      "metadata": {
        "id": "eHUC5YdI9OyT"
      },
      "execution_count": 9,
      "outputs": []
    },
    {
      "cell_type": "markdown",
      "source": [
        "One hot encoding\n",
        "\n"
      ],
      "metadata": {
        "id": "jy7vdkjh8_KT"
      }
    },
    {
      "cell_type": "code",
      "source": [
        "onehot = [one_hot(words,vocabsize) for words in sentences] \n",
        "print(onehot)"
      ],
      "metadata": {
        "colab": {
          "base_uri": "https://localhost:8080/"
        },
        "id": "aixRm9yW88x-",
        "outputId": "7d849db9-bcf2-4b14-a41a-4d10709b59c7"
      },
      "execution_count": 13,
      "outputs": [
        {
          "output_type": "stream",
          "name": "stdout",
          "text": [
            "[[1203, 1093, 2621, 5260, 9038], [5260, 9038, 4444, 2745], [1601, 9065, 5730, 6932, 5260, 7586], [5238, 4512, 9065, 2754, 9367], [1203, 9503, 6980, 9065, 7028, 177, 5260, 2263]]\n"
          ]
        }
      ]
    },
    {
      "cell_type": "markdown",
      "source": [
        "Word Embedding Representation"
      ],
      "metadata": {
        "id": "UhWjI3qb-GcQ"
      }
    },
    {
      "cell_type": "markdown",
      "source": [
        "Importing keras libraries"
      ],
      "metadata": {
        "id": "lvVFNlhP-fv0"
      }
    },
    {
      "cell_type": "code",
      "source": [
        "from tensorflow.keras.layers import Embedding\n",
        "from tensorflow.keras.preprocessing.sequence import pad_sequences\n",
        "from tensorflow.keras.models import Sequential"
      ],
      "metadata": {
        "id": "5kVg2mdg8897"
      },
      "execution_count": 14,
      "outputs": []
    },
    {
      "cell_type": "code",
      "source": [
        "import numpy as np "
      ],
      "metadata": {
        "id": "TVfAFhqy89El"
      },
      "execution_count": 15,
      "outputs": []
    },
    {
      "cell_type": "markdown",
      "source": [
        "Setting parameters - padding for adding 0s"
      ],
      "metadata": {
        "id": "nRy-MdZkAt2O"
      }
    },
    {
      "cell_type": "code",
      "source": [
        "sentencelength=10\n",
        "emb=pad_sequences(onehot,padding='pre',maxlen=sentencelength)\n",
        "print(emb)"
      ],
      "metadata": {
        "colab": {
          "base_uri": "https://localhost:8080/"
        },
        "id": "XDMJQqEsAoZ5",
        "outputId": "f5dde87d-9ca6-40fb-e9fb-4826ce4f8527"
      },
      "execution_count": 18,
      "outputs": [
        {
          "output_type": "stream",
          "name": "stdout",
          "text": [
            "[[   0    0    0    0    0 1203 1093 2621 5260 9038]\n",
            " [   0    0    0    0    0    0 5260 9038 4444 2745]\n",
            " [   0    0    0    0 1601 9065 5730 6932 5260 7586]\n",
            " [   0    0    0    0    0 5238 4512 9065 2754 9367]\n",
            " [   0    0 1203 9503 6980 9065 7028  177 5260 2263]]\n"
          ]
        }
      ]
    },
    {
      "cell_type": "markdown",
      "source": [
        "Set the dimensions"
      ],
      "metadata": {
        "id": "_g7wx6rhBfdO"
      }
    },
    {
      "cell_type": "code",
      "source": [
        "dim=15"
      ],
      "metadata": {
        "id": "lQhvDqwZBiLL"
      },
      "execution_count": 24,
      "outputs": []
    },
    {
      "cell_type": "markdown",
      "source": [
        "Defining the model"
      ],
      "metadata": {
        "id": "NHvPTtOZBm5R"
      }
    },
    {
      "cell_type": "code",
      "source": [
        "model = Sequential()\n",
        "model.add(Embedding(vocabsize, 10, input_length=sentencelength))\n",
        "model.compile('adam', 'mse')"
      ],
      "metadata": {
        "id": "pCfNnE8cBnjt"
      },
      "execution_count": 25,
      "outputs": []
    },
    {
      "cell_type": "markdown",
      "source": [
        "Model summary"
      ],
      "metadata": {
        "id": "W2VNO7QzB7fn"
      }
    },
    {
      "cell_type": "code",
      "source": [
        "model.summary()"
      ],
      "metadata": {
        "colab": {
          "base_uri": "https://localhost:8080/"
        },
        "id": "s5JHtH92B-kN",
        "outputId": "5c10c502-ddfd-400f-a28a-bf698cc8111e"
      },
      "execution_count": 26,
      "outputs": [
        {
          "output_type": "stream",
          "name": "stdout",
          "text": [
            "Model: \"sequential_2\"\n",
            "_________________________________________________________________\n",
            " Layer (type)                Output Shape              Param #   \n",
            "=================================================================\n",
            " embedding_2 (Embedding)     (None, 10, 10)            100000    \n",
            "                                                                 \n",
            "=================================================================\n",
            "Total params: 100,000\n",
            "Trainable params: 100,000\n",
            "Non-trainable params: 0\n",
            "_________________________________________________________________\n"
          ]
        }
      ]
    },
    {
      "cell_type": "markdown",
      "source": [
        "Checking how the model performs"
      ],
      "metadata": {
        "id": "t16zYSIMCQBB"
      }
    },
    {
      "cell_type": "code",
      "source": [
        "model.predict(emb)"
      ],
      "metadata": {
        "colab": {
          "base_uri": "https://localhost:8080/"
        },
        "id": "9BgoozWOCWxE",
        "outputId": "a1a98de4-ba7b-4bcf-e167-ca0db3983087"
      },
      "execution_count": 27,
      "outputs": [
        {
          "output_type": "execute_result",
          "data": {
            "text/plain": [
              "array([[[-3.43587883e-02,  2.85050906e-02, -3.17335129e-02,\n",
              "         -9.91593674e-03,  2.95152515e-03, -4.33785580e-02,\n",
              "         -3.55906859e-02,  1.83330663e-02,  4.67391126e-02,\n",
              "          1.05447397e-02],\n",
              "        [-3.43587883e-02,  2.85050906e-02, -3.17335129e-02,\n",
              "         -9.91593674e-03,  2.95152515e-03, -4.33785580e-02,\n",
              "         -3.55906859e-02,  1.83330663e-02,  4.67391126e-02,\n",
              "          1.05447397e-02],\n",
              "        [-3.43587883e-02,  2.85050906e-02, -3.17335129e-02,\n",
              "         -9.91593674e-03,  2.95152515e-03, -4.33785580e-02,\n",
              "         -3.55906859e-02,  1.83330663e-02,  4.67391126e-02,\n",
              "          1.05447397e-02],\n",
              "        [-3.43587883e-02,  2.85050906e-02, -3.17335129e-02,\n",
              "         -9.91593674e-03,  2.95152515e-03, -4.33785580e-02,\n",
              "         -3.55906859e-02,  1.83330663e-02,  4.67391126e-02,\n",
              "          1.05447397e-02],\n",
              "        [-3.43587883e-02,  2.85050906e-02, -3.17335129e-02,\n",
              "         -9.91593674e-03,  2.95152515e-03, -4.33785580e-02,\n",
              "         -3.55906859e-02,  1.83330663e-02,  4.67391126e-02,\n",
              "          1.05447397e-02],\n",
              "        [ 2.46589519e-02,  3.39844264e-02,  6.67064264e-03,\n",
              "         -4.96199839e-02,  2.86041014e-02,  3.86794843e-02,\n",
              "         -1.03371628e-02,  3.42313983e-02,  1.96203105e-02,\n",
              "         -4.89922538e-02],\n",
              "        [-5.98528236e-03, -3.40605378e-02, -3.18755731e-02,\n",
              "         -4.99646552e-02,  7.89014250e-03, -4.00620326e-02,\n",
              "          2.22209357e-02,  4.72158678e-02, -4.29445170e-02,\n",
              "          4.23028804e-02],\n",
              "        [ 3.38333733e-02, -1.02153644e-02,  1.62923671e-02,\n",
              "         -2.01142784e-02, -4.77658287e-02, -1.81630142e-02,\n",
              "          1.28694884e-02,  4.98568453e-02,  1.54692419e-02,\n",
              "         -1.34518035e-02],\n",
              "        [ 4.20060270e-02,  1.17686391e-02,  2.14918889e-02,\n",
              "          1.76546462e-02, -1.58972517e-02,  3.48983519e-02,\n",
              "          2.56550573e-02,  3.22848447e-02,  4.65832017e-02,\n",
              "         -3.66307870e-02],\n",
              "        [ 5.80679625e-04,  4.26792242e-02,  1.68191232e-02,\n",
              "         -1.99936703e-03, -6.81879371e-03,  3.93921621e-02,\n",
              "          4.46072258e-02,  3.28794122e-05,  1.79651491e-02,\n",
              "          3.43457125e-02]],\n",
              "\n",
              "       [[-3.43587883e-02,  2.85050906e-02, -3.17335129e-02,\n",
              "         -9.91593674e-03,  2.95152515e-03, -4.33785580e-02,\n",
              "         -3.55906859e-02,  1.83330663e-02,  4.67391126e-02,\n",
              "          1.05447397e-02],\n",
              "        [-3.43587883e-02,  2.85050906e-02, -3.17335129e-02,\n",
              "         -9.91593674e-03,  2.95152515e-03, -4.33785580e-02,\n",
              "         -3.55906859e-02,  1.83330663e-02,  4.67391126e-02,\n",
              "          1.05447397e-02],\n",
              "        [-3.43587883e-02,  2.85050906e-02, -3.17335129e-02,\n",
              "         -9.91593674e-03,  2.95152515e-03, -4.33785580e-02,\n",
              "         -3.55906859e-02,  1.83330663e-02,  4.67391126e-02,\n",
              "          1.05447397e-02],\n",
              "        [-3.43587883e-02,  2.85050906e-02, -3.17335129e-02,\n",
              "         -9.91593674e-03,  2.95152515e-03, -4.33785580e-02,\n",
              "         -3.55906859e-02,  1.83330663e-02,  4.67391126e-02,\n",
              "          1.05447397e-02],\n",
              "        [-3.43587883e-02,  2.85050906e-02, -3.17335129e-02,\n",
              "         -9.91593674e-03,  2.95152515e-03, -4.33785580e-02,\n",
              "         -3.55906859e-02,  1.83330663e-02,  4.67391126e-02,\n",
              "          1.05447397e-02],\n",
              "        [-3.43587883e-02,  2.85050906e-02, -3.17335129e-02,\n",
              "         -9.91593674e-03,  2.95152515e-03, -4.33785580e-02,\n",
              "         -3.55906859e-02,  1.83330663e-02,  4.67391126e-02,\n",
              "          1.05447397e-02],\n",
              "        [ 4.20060270e-02,  1.17686391e-02,  2.14918889e-02,\n",
              "          1.76546462e-02, -1.58972517e-02,  3.48983519e-02,\n",
              "          2.56550573e-02,  3.22848447e-02,  4.65832017e-02,\n",
              "         -3.66307870e-02],\n",
              "        [ 5.80679625e-04,  4.26792242e-02,  1.68191232e-02,\n",
              "         -1.99936703e-03, -6.81879371e-03,  3.93921621e-02,\n",
              "          4.46072258e-02,  3.28794122e-05,  1.79651491e-02,\n",
              "          3.43457125e-02],\n",
              "        [-2.84958612e-02,  1.57424845e-02, -3.66588011e-02,\n",
              "         -8.03694129e-05,  2.68277265e-02,  3.23750041e-02,\n",
              "         -3.67726311e-02,  2.23560967e-02,  3.15487385e-03,\n",
              "         -2.90560368e-02],\n",
              "        [-7.01021403e-04,  1.40135922e-02,  1.70466416e-02,\n",
              "          3.41739766e-02, -3.11438087e-02,  1.95528530e-02,\n",
              "          2.32607983e-02, -4.73457091e-02,  4.87871096e-03,\n",
              "         -3.68276723e-02]],\n",
              "\n",
              "       [[-3.43587883e-02,  2.85050906e-02, -3.17335129e-02,\n",
              "         -9.91593674e-03,  2.95152515e-03, -4.33785580e-02,\n",
              "         -3.55906859e-02,  1.83330663e-02,  4.67391126e-02,\n",
              "          1.05447397e-02],\n",
              "        [-3.43587883e-02,  2.85050906e-02, -3.17335129e-02,\n",
              "         -9.91593674e-03,  2.95152515e-03, -4.33785580e-02,\n",
              "         -3.55906859e-02,  1.83330663e-02,  4.67391126e-02,\n",
              "          1.05447397e-02],\n",
              "        [-3.43587883e-02,  2.85050906e-02, -3.17335129e-02,\n",
              "         -9.91593674e-03,  2.95152515e-03, -4.33785580e-02,\n",
              "         -3.55906859e-02,  1.83330663e-02,  4.67391126e-02,\n",
              "          1.05447397e-02],\n",
              "        [-3.43587883e-02,  2.85050906e-02, -3.17335129e-02,\n",
              "         -9.91593674e-03,  2.95152515e-03, -4.33785580e-02,\n",
              "         -3.55906859e-02,  1.83330663e-02,  4.67391126e-02,\n",
              "          1.05447397e-02],\n",
              "        [-3.99635807e-02,  1.64225139e-02, -7.37470388e-03,\n",
              "         -3.45449559e-02,  6.63173199e-03,  1.73314475e-02,\n",
              "         -2.69110929e-02, -7.63672590e-03,  3.19853760e-02,\n",
              "          4.59676273e-02],\n",
              "        [-1.16652474e-02,  1.11758932e-02, -4.19189446e-02,\n",
              "         -3.64760049e-02, -2.97047030e-02, -2.51441076e-03,\n",
              "          3.31220143e-02, -2.79356129e-02,  3.08503993e-02,\n",
              "         -2.29427461e-02],\n",
              "        [-3.34606655e-02, -3.02083250e-02, -2.55947709e-02,\n",
              "         -1.15664005e-02,  8.32592323e-03, -2.35113148e-02,\n",
              "          1.07996352e-02,  2.44192593e-02,  3.00936215e-02,\n",
              "         -2.00519096e-02],\n",
              "        [-9.97761637e-03, -3.34608443e-02,  3.66523974e-02,\n",
              "         -2.95158476e-03,  2.60477923e-02, -3.00890096e-02,\n",
              "         -3.67524140e-02,  2.86327638e-02, -4.57743779e-02,\n",
              "         -3.40009332e-02],\n",
              "        [ 4.20060270e-02,  1.17686391e-02,  2.14918889e-02,\n",
              "          1.76546462e-02, -1.58972517e-02,  3.48983519e-02,\n",
              "          2.56550573e-02,  3.22848447e-02,  4.65832017e-02,\n",
              "         -3.66307870e-02],\n",
              "        [ 2.59075202e-02,  2.21827365e-02, -1.94622204e-03,\n",
              "         -1.56374350e-02,  4.26956303e-02,  3.92553695e-02,\n",
              "         -5.48762083e-03,  2.90282629e-02, -2.84194592e-02,\n",
              "          4.53032963e-02]],\n",
              "\n",
              "       [[-3.43587883e-02,  2.85050906e-02, -3.17335129e-02,\n",
              "         -9.91593674e-03,  2.95152515e-03, -4.33785580e-02,\n",
              "         -3.55906859e-02,  1.83330663e-02,  4.67391126e-02,\n",
              "          1.05447397e-02],\n",
              "        [-3.43587883e-02,  2.85050906e-02, -3.17335129e-02,\n",
              "         -9.91593674e-03,  2.95152515e-03, -4.33785580e-02,\n",
              "         -3.55906859e-02,  1.83330663e-02,  4.67391126e-02,\n",
              "          1.05447397e-02],\n",
              "        [-3.43587883e-02,  2.85050906e-02, -3.17335129e-02,\n",
              "         -9.91593674e-03,  2.95152515e-03, -4.33785580e-02,\n",
              "         -3.55906859e-02,  1.83330663e-02,  4.67391126e-02,\n",
              "          1.05447397e-02],\n",
              "        [-3.43587883e-02,  2.85050906e-02, -3.17335129e-02,\n",
              "         -9.91593674e-03,  2.95152515e-03, -4.33785580e-02,\n",
              "         -3.55906859e-02,  1.83330663e-02,  4.67391126e-02,\n",
              "          1.05447397e-02],\n",
              "        [-3.43587883e-02,  2.85050906e-02, -3.17335129e-02,\n",
              "         -9.91593674e-03,  2.95152515e-03, -4.33785580e-02,\n",
              "         -3.55906859e-02,  1.83330663e-02,  4.67391126e-02,\n",
              "          1.05447397e-02],\n",
              "        [-2.60465220e-03, -3.15537341e-02, -1.46582611e-02,\n",
              "          2.46152170e-02,  2.92357840e-02, -3.08534391e-02,\n",
              "          4.49657477e-02, -1.92965996e-02, -4.96285036e-03,\n",
              "         -1.98539495e-02],\n",
              "        [-2.86886580e-02,  4.41487543e-02,  2.06804313e-02,\n",
              "          7.61420652e-03,  1.39538087e-02, -4.92280126e-02,\n",
              "          1.67986639e-02,  3.49580124e-03, -1.77752376e-02,\n",
              "         -9.91866738e-03],\n",
              "        [-1.16652474e-02,  1.11758932e-02, -4.19189446e-02,\n",
              "         -3.64760049e-02, -2.97047030e-02, -2.51441076e-03,\n",
              "          3.31220143e-02, -2.79356129e-02,  3.08503993e-02,\n",
              "         -2.29427461e-02],\n",
              "        [ 5.40418550e-03, -3.29897180e-02,  4.18814309e-02,\n",
              "          3.38791721e-02,  1.10828057e-02,  2.18813084e-02,\n",
              "         -3.20373923e-02, -3.79184261e-02,  2.23800577e-02,\n",
              "         -2.11192127e-02],\n",
              "        [-3.08253057e-02, -4.97045778e-02,  4.50059883e-02,\n",
              "         -4.06802297e-02,  2.75186934e-02, -3.93643156e-02,\n",
              "          2.14865915e-02, -3.54297645e-02, -4.20103557e-02,\n",
              "         -1.60139315e-02]],\n",
              "\n",
              "       [[-3.43587883e-02,  2.85050906e-02, -3.17335129e-02,\n",
              "         -9.91593674e-03,  2.95152515e-03, -4.33785580e-02,\n",
              "         -3.55906859e-02,  1.83330663e-02,  4.67391126e-02,\n",
              "          1.05447397e-02],\n",
              "        [-3.43587883e-02,  2.85050906e-02, -3.17335129e-02,\n",
              "         -9.91593674e-03,  2.95152515e-03, -4.33785580e-02,\n",
              "         -3.55906859e-02,  1.83330663e-02,  4.67391126e-02,\n",
              "          1.05447397e-02],\n",
              "        [ 2.46589519e-02,  3.39844264e-02,  6.67064264e-03,\n",
              "         -4.96199839e-02,  2.86041014e-02,  3.86794843e-02,\n",
              "         -1.03371628e-02,  3.42313983e-02,  1.96203105e-02,\n",
              "         -4.89922538e-02],\n",
              "        [-2.73829829e-02,  1.11190304e-02,  4.18199226e-03,\n",
              "          4.54596393e-02, -4.00875583e-02,  2.11251117e-02,\n",
              "         -1.80751309e-02,  4.42056693e-02,  3.95569317e-02,\n",
              "          1.21881254e-02],\n",
              "        [ 4.50202562e-02,  1.95218958e-02, -1.10744238e-02,\n",
              "          1.25098862e-02,  3.23456042e-02, -3.25545296e-02,\n",
              "         -2.05855966e-02,  4.80039231e-02,  3.13782580e-02,\n",
              "         -3.83551344e-02],\n",
              "        [-1.16652474e-02,  1.11758932e-02, -4.19189446e-02,\n",
              "         -3.64760049e-02, -2.97047030e-02, -2.51441076e-03,\n",
              "          3.31220143e-02, -2.79356129e-02,  3.08503993e-02,\n",
              "         -2.29427461e-02],\n",
              "        [-3.27740535e-02,  3.40654589e-02,  1.81832202e-02,\n",
              "         -1.71553344e-04, -2.08020341e-02,  8.43118876e-04,\n",
              "         -3.62017266e-02,  3.12370993e-02, -4.48842756e-02,\n",
              "         -1.95840746e-03],\n",
              "        [ 1.87675245e-02, -5.84807247e-03, -1.97733175e-02,\n",
              "         -2.54377611e-02,  1.17856264e-03, -3.09279803e-02,\n",
              "         -9.25426558e-03,  8.94213840e-03,  3.42580415e-02,\n",
              "         -2.23116763e-02],\n",
              "        [ 4.20060270e-02,  1.17686391e-02,  2.14918889e-02,\n",
              "          1.76546462e-02, -1.58972517e-02,  3.48983519e-02,\n",
              "          2.56550573e-02,  3.22848447e-02,  4.65832017e-02,\n",
              "         -3.66307870e-02],\n",
              "        [ 8.51037353e-03, -3.19720507e-02, -3.36768851e-02,\n",
              "         -3.86340618e-02, -2.72032265e-02, -8.97916406e-03,\n",
              "         -4.22168374e-02,  1.73969977e-02,  4.28205617e-02,\n",
              "          4.02232446e-02]]], dtype=float32)"
            ]
          },
          "metadata": {},
          "execution_count": 27
        }
      ]
    },
    {
      "cell_type": "markdown",
      "source": [
        "Understanding the embeddings on the first sentence"
      ],
      "metadata": {
        "id": "UoDxsxXqCmB3"
      }
    },
    {
      "cell_type": "code",
      "source": [
        "emb[0]"
      ],
      "metadata": {
        "colab": {
          "base_uri": "https://localhost:8080/"
        },
        "id": "8oBBA2g2Cgqr",
        "outputId": "2ab46ae5-5d4b-4360-ff0e-c2a54aaf44c7"
      },
      "execution_count": 28,
      "outputs": [
        {
          "output_type": "execute_result",
          "data": {
            "text/plain": [
              "array([   0,    0,    0,    0,    0, 1203, 1093, 2621, 5260, 9038],\n",
              "      dtype=int32)"
            ]
          },
          "metadata": {},
          "execution_count": 28
        }
      ]
    },
    {
      "cell_type": "markdown",
      "source": [
        "Words getting converted into a dimension of 10 vectors!"
      ],
      "metadata": {
        "id": "7l7nS4wsDA44"
      }
    },
    {
      "cell_type": "code",
      "source": [
        "model.predict(emb[0])"
      ],
      "metadata": {
        "colab": {
          "base_uri": "https://localhost:8080/"
        },
        "id": "5smODXtlCrPM",
        "outputId": "72ca8133-c048-4294-c31c-cc7b17e73169"
      },
      "execution_count": 29,
      "outputs": [
        {
          "output_type": "stream",
          "name": "stdout",
          "text": [
            "WARNING:tensorflow:Model was constructed with shape (None, 10) for input KerasTensor(type_spec=TensorSpec(shape=(None, 10), dtype=tf.float32, name='embedding_2_input'), name='embedding_2_input', description=\"created by layer 'embedding_2_input'\"), but it was called on an input with incompatible shape (None,).\n"
          ]
        },
        {
          "output_type": "execute_result",
          "data": {
            "text/plain": [
              "array([[-3.43587883e-02,  2.85050906e-02, -3.17335129e-02,\n",
              "        -9.91593674e-03,  2.95152515e-03, -4.33785580e-02,\n",
              "        -3.55906859e-02,  1.83330663e-02,  4.67391126e-02,\n",
              "         1.05447397e-02],\n",
              "       [-3.43587883e-02,  2.85050906e-02, -3.17335129e-02,\n",
              "        -9.91593674e-03,  2.95152515e-03, -4.33785580e-02,\n",
              "        -3.55906859e-02,  1.83330663e-02,  4.67391126e-02,\n",
              "         1.05447397e-02],\n",
              "       [-3.43587883e-02,  2.85050906e-02, -3.17335129e-02,\n",
              "        -9.91593674e-03,  2.95152515e-03, -4.33785580e-02,\n",
              "        -3.55906859e-02,  1.83330663e-02,  4.67391126e-02,\n",
              "         1.05447397e-02],\n",
              "       [-3.43587883e-02,  2.85050906e-02, -3.17335129e-02,\n",
              "        -9.91593674e-03,  2.95152515e-03, -4.33785580e-02,\n",
              "        -3.55906859e-02,  1.83330663e-02,  4.67391126e-02,\n",
              "         1.05447397e-02],\n",
              "       [-3.43587883e-02,  2.85050906e-02, -3.17335129e-02,\n",
              "        -9.91593674e-03,  2.95152515e-03, -4.33785580e-02,\n",
              "        -3.55906859e-02,  1.83330663e-02,  4.67391126e-02,\n",
              "         1.05447397e-02],\n",
              "       [ 2.46589519e-02,  3.39844264e-02,  6.67064264e-03,\n",
              "        -4.96199839e-02,  2.86041014e-02,  3.86794843e-02,\n",
              "        -1.03371628e-02,  3.42313983e-02,  1.96203105e-02,\n",
              "        -4.89922538e-02],\n",
              "       [-5.98528236e-03, -3.40605378e-02, -3.18755731e-02,\n",
              "        -4.99646552e-02,  7.89014250e-03, -4.00620326e-02,\n",
              "         2.22209357e-02,  4.72158678e-02, -4.29445170e-02,\n",
              "         4.23028804e-02],\n",
              "       [ 3.38333733e-02, -1.02153644e-02,  1.62923671e-02,\n",
              "        -2.01142784e-02, -4.77658287e-02, -1.81630142e-02,\n",
              "         1.28694884e-02,  4.98568453e-02,  1.54692419e-02,\n",
              "        -1.34518035e-02],\n",
              "       [ 4.20060270e-02,  1.17686391e-02,  2.14918889e-02,\n",
              "         1.76546462e-02, -1.58972517e-02,  3.48983519e-02,\n",
              "         2.56550573e-02,  3.22848447e-02,  4.65832017e-02,\n",
              "        -3.66307870e-02],\n",
              "       [ 5.80679625e-04,  4.26792242e-02,  1.68191232e-02,\n",
              "        -1.99936703e-03, -6.81879371e-03,  3.93921621e-02,\n",
              "         4.46072258e-02,  3.28794122e-05,  1.79651491e-02,\n",
              "         3.43457125e-02]], dtype=float32)"
            ]
          },
          "metadata": {},
          "execution_count": 29
        }
      ]
    }
  ]
}